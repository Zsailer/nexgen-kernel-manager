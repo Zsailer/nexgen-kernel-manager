{
 "cells": [
  {
   "cell_type": "code",
   "execution_count": 1,
   "id": "4b2a4039-c352-44c6-8834-6ee601dcb037",
   "metadata": {
    "execution": {
     "iopub.execute_input": "2024-06-12T18:20:35.787291Z",
     "iopub.status.busy": "2024-06-12T18:20:35.786503Z",
     "iopub.status.idle": "2024-06-12T18:20:45.835714Z",
     "shell.execute_reply": "2024-06-12T18:20:45.834147Z",
     "shell.execute_reply.started": "2024-06-12T18:20:35.787215Z"
    }
   },
   "outputs": [
    {
     "name": "stdout",
     "output_type": "stream",
     "text": [
      "0\n",
      "1\n",
      "2\n",
      "3\n",
      "4\n",
      "5\n",
      "6\n",
      "7\n",
      "8\n",
      "9\n"
     ]
    }
   ],
   "source": [
    "import time\n",
    "\n",
    "for i in range(10):\n",
    "    print(i)\n",
    "    time.sleep(1)"
   ]
  }
 ],
 "metadata": {
  "kernelspec": {
   "display_name": "Python 3 (ipykernel)",
   "language": "python",
   "name": "python3"
  },
  "language_info": {
   "codemirror_mode": {
    "name": "ipython",
    "version": 3
   },
   "file_extension": ".py",
   "mimetype": "text/x-python",
   "name": "python",
   "nbconvert_exporter": "python",
   "pygments_lexer": "ipython3",
   "version": "3.10.14"
  }
 },
 "nbformat": 4,
 "nbformat_minor": 5
}
